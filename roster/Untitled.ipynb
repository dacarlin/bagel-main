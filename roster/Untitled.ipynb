{
 "cells": [
  {
   "cell_type": "code",
   "execution_count": 27,
   "metadata": {
    "collapsed": false,
    "scrolled": false
   },
   "outputs": [],
   "source": [
    "import pandas \n",
    "\n",
    "my_cols = [ 'correct_name', 'box', 'row', 'column', 'physical_desc' ]\n",
    "df = pandas.read_csv( 'roster_backup_sep_16_2016.csv', index_col='correct_name', usecols=my_cols )\n",
    "df = df.sort_values( [ 'box', 'row', 'column' ] ) \n",
    "df[ 'SL_index' ] = [ x + 1 for x in range( len( df ) ) ]  \n",
    "df[ 'mutant' ] = df.index \n",
    "df.set_index( 'SL_index', inplace=True )\n",
    "df.to_csv( 'current_roster.csv' )"
   ]
  },
  {
   "cell_type": "code",
   "execution_count": null,
   "metadata": {
    "collapsed": true
   },
   "outputs": [],
   "source": [
    "# how can we easily append new mutants? \n",
    "\n",
    "my_muts = [ 'H315D', 'S16T', 'Q19N', 'E406N', 'H119N', 'N293T', 'C167F', 'E177D' ]\n",
    "\n",
    "#for my_mut in my_muts:\n",
    "#    df.append( my_mut )    "
   ]
  },
  {
   "cell_type": "code",
   "execution_count": 15,
   "metadata": {
    "collapsed": false
   },
   "outputs": [
    {
     "name": "stdout",
     "output_type": "stream",
     "text": [
      "49\n"
     ]
    }
   ],
   "source": [
    "# which mutants do we have data for? \n",
    "\n",
    "thermo_cols = [ 'expression', 'tm', 'kcat', 'km', 'kcatkm' ]\n",
    "thermo = pandas.read_csv( '/Users/alex/Documents/bagel-benchmark/data_sets/experimental/thermo_paper_data_set.csv', index_col='mutant' )[ thermo_cols ]\n",
    "plos_cols = [ 'kcat', 'km', 'kcatkm', 'y' ]\n",
    "plos = pandas.read_csv( '/Users/alex/Documents/bagel-benchmark/data_sets/experimental/plos_2016.csv', index_col='name' )[ plos_cols ]\n",
    "\n",
    "no_data = [ m for m in df.index if m not in thermo.index and m not in plos.index ]\n",
    "print len( no_data )"
   ]
  }
 ],
 "metadata": {
  "kernelspec": {
   "display_name": "Python 2",
   "language": "python",
   "name": "python2"
  },
  "language_info": {
   "codemirror_mode": {
    "name": "ipython",
    "version": 2
   },
   "file_extension": ".py",
   "mimetype": "text/x-python",
   "name": "python",
   "nbconvert_exporter": "python",
   "pygments_lexer": "ipython2",
   "version": "2.7.12"
  }
 },
 "nbformat": 4,
 "nbformat_minor": 0
}
